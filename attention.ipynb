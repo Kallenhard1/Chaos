{
  "nbformat": 4,
  "nbformat_minor": 0,
  "metadata": {
    "colab": {
      "provenance": [],
      "include_colab_link": true
    },
    "kernelspec": {
      "name": "python3",
      "display_name": "Python 3"
    },
    "language_info": {
      "name": "python"
    }
  },
  "cells": [
    {
      "cell_type": "markdown",
      "metadata": {
        "id": "view-in-github",
        "colab_type": "text"
      },
      "source": [
        "<a href=\"https://colab.research.google.com/github/Kallenhard1/Chaos/blob/master/attention.ipynb\" target=\"_parent\"><img src=\"https://colab.research.google.com/assets/colab-badge.svg\" alt=\"Open In Colab\"/></a>"
      ]
    },
    {
      "cell_type": "markdown",
      "source": [
        "# Attention Mechanism using NumPy and SciPy"
      ],
      "metadata": {
        "id": "dPSjM6b34I36"
      }
    },
    {
      "cell_type": "code",
      "source": [],
      "metadata": {
        "id": "jSgWsEihO_ie"
      },
      "execution_count": null,
      "outputs": []
    },
    {
      "cell_type": "markdown",
      "source": [
        "# Attention Mechanism using PyTorch"
      ],
      "metadata": {
        "id": "zLVBWMoO317K"
      }
    },
    {
      "cell_type": "code",
      "execution_count": null,
      "metadata": {
        "id": "WUMYuGWgpn0s",
        "colab": {
          "base_uri": "https://localhost:8080/"
        },
        "outputId": "0c416286-a4b1-4f02-fca6-fb691805f871"
      },
      "outputs": [
        {
          "output_type": "stream",
          "name": "stdout",
          "text": [
            "tensor([[1.1634, 0.7909, 1.5817],\n",
            "        [1.0000, 0.8424, 1.5616],\n",
            "        [1.1799, 0.8707, 1.6405],\n",
            "        [1.1634, 0.7909, 1.5817]])\n"
          ]
        }
      ],
      "source": [
        "import torch\n",
        "\n",
        "word_1 = torch.tensor([1., 0., 0.])\n",
        "word_2 = torch.tensor([0., 1., 0.])\n",
        "word_3 = torch.tensor([1., 1., 0.])\n",
        "word_4 = torch.tensor([1., 0., 1.])\n",
        " \n",
        "input_embeddings = torch.stack([word_1, word_2, word_3, word_4], dim=0)\n",
        " \n",
        "torch.manual_seed(42)\n",
        "W_Q = torch.randint(0, 2, (3, 3)).type(torch.float)\n",
        "W_K = torch.randint(0, 2, (3, 3)).type(torch.float)\n",
        "W_V = torch.randint(0, 2, (3, 3)).type(torch.float)\n",
        "\n",
        "Q = torch.matmul(input_embeddings, W_Q)\n",
        "K = torch.matmul(input_embeddings, W_K)\n",
        "V = torch.matmul(input_embeddings, W_V)\n",
        "\n",
        "attention_scores = torch.matmul(Q, K.transpose(1, 0)) / K.shape[1] ** 0.5\n",
        "\n",
        "attention_weights = torch.softmax(attention_scores, axis=1)\n",
        "\n",
        "attention_matrix = torch.matmul(attention_weights, V)\n",
        "\n",
        "print(attention_matrix)"
      ]
    }
  ]
}